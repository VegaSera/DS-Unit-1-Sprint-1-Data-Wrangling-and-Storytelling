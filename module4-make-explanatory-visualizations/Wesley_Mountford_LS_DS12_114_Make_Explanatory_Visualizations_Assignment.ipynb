{
  "nbformat": 4,
  "nbformat_minor": 0,
  "metadata": {
    "colab": {
      "name": "Wesley_Mountford_LS_DS12_114_Make_Explanatory_Visualizations_Assignment.ipynb",
      "provenance": [],
      "collapsed_sections": [],
      "include_colab_link": true
    },
    "language_info": {
      "codemirror_mode": {
        "name": "ipython",
        "version": 3
      },
      "file_extension": ".py",
      "mimetype": "text/x-python",
      "name": "python",
      "nbconvert_exporter": "python",
      "pygments_lexer": "ipython3",
      "version": "3.7.1"
    },
    "kernelspec": {
      "name": "python3",
      "display_name": "Python 3"
    },
    "accelerator": "GPU"
  },
  "cells": [
    {
      "cell_type": "markdown",
      "metadata": {
        "id": "view-in-github",
        "colab_type": "text"
      },
      "source": [
        "<a href=\"https://colab.research.google.com/github/VegaSera/DS-Unit-1-Sprint-1-Data-Wrangling-and-Storytelling/blob/master/module4-make-explanatory-visualizations/Wesley_Mountford_LS_DS12_114_Make_Explanatory_Visualizations_Assignment.ipynb\" target=\"_parent\"><img src=\"https://colab.research.google.com/assets/colab-badge.svg\" alt=\"Open In Colab\"/></a>"
      ]
    },
    {
      "cell_type": "markdown",
      "metadata": {
        "colab_type": "text",
        "id": "NMEswXWh9mqw"
      },
      "source": [
        "Lambda School Data Science\n",
        "\n",
        "*Unit 1, Sprint 1, Module 4*\n",
        "\n",
        "---\n",
        "\n",
        "# ASSIGNMENT\n",
        "\n",
        "### 1) Replicate the lesson code. I recommend that you [do not copy-paste](https://docs.google.com/document/d/1ubOw9B3Hfip27hF2ZFnW3a3z9xAgrUDRReOEo-FHCVs/edit).\n",
        "\n",
        "Get caught up to where we got our example in class and then try and take things further. How close to \"pixel perfect\" can you make the lecture graph?\n",
        "\n",
        "Once you have something that you're proud of, share your graph in the cohort channel and move on to the second exercise.\n",
        "\n",
        "### 2) Reproduce another example from [FiveThityEight's shared data repository](https://data.fivethirtyeight.com/).\n",
        "\n",
        "**WARNING**: There are a lot of very custom graphs and tables at the above link. I **highly** recommend not trying to reproduce any that look like a table of values or something really different from the graph types that we are already familiar with. Search through the posts until you find a graph type that you are more or less familiar with: histogram, bar chart, stacked bar chart, line chart, [seaborn relplot](https://seaborn.pydata.org/generated/seaborn.relplot.html), etc. Recreating some of the graphics that 538 uses would be a lot easier in Adobe photoshop/illustrator than with matplotlib. \n",
        "\n",
        "- If you put in some time to find a graph that looks \"easy\" to replicate you'll probably find that it's not as easy as you thought. \n",
        "\n",
        "- If you start with a graph that looks hard to replicate you'll probably run up against a brick wall and be disappointed with your afternoon.\n",
        "\n",
        "\n",
        "\n",
        "\n",
        "\n",
        "\n",
        "\n",
        "\n",
        "\n",
        "\n"
      ]
    },
    {
      "cell_type": "code",
      "metadata": {
        "id": "7SY1ZHawyZvz",
        "colab_type": "code",
        "outputId": "bea482ae-b05e-49b8-9b41-011d4ac04701",
        "colab": {
          "base_uri": "https://localhost:8080/",
          "height": 355
        }
      },
      "source": [
        "from IPython.display import display, Image\n",
        "\n",
        "url = 'https://fivethirtyeight.com/wp-content/uploads/2017/09/mehtahickey-inconvenient-0830-1.png'\n",
        "example = Image(url=url, width=400)\n",
        "\n",
        "display(example)"
      ],
      "execution_count": 1,
      "outputs": [
        {
          "output_type": "display_data",
          "data": {
            "text/html": [
              "<img src=\"https://fivethirtyeight.com/wp-content/uploads/2017/09/mehtahickey-inconvenient-0830-1.png\" width=\"400\"/>"
            ],
            "text/plain": [
              "<IPython.core.display.Image object>"
            ]
          },
          "metadata": {
            "tags": []
          }
        }
      ]
    },
    {
      "cell_type": "code",
      "metadata": {
        "id": "e6j8a6vKMery",
        "colab_type": "code",
        "outputId": "1e9d49d9-5c90-4aae-f31d-ed2b2d9482cd",
        "colab": {
          "base_uri": "https://localhost:8080/",
          "height": 354
        }
      },
      "source": [
        "import matplotlib.pyplot as plt #All the imports we need\n",
        "import pandas as pd\n",
        "import numpy as np\n",
        "\n",
        "plt.style.use('fivethirtyeight') #Setting style\n",
        "\n",
        "fake = pd.Series([38, 3, 2, 1, 2, 4, 6, 5, 5, 33], \n",
        "                 index=range(1,11))\n",
        "\n",
        "fig, ax= plt.subplots()\n",
        "\n",
        "fake.plot.bar(color='#ED7139', width=0.92)\n",
        "\n",
        "ax.set_title(\"'An Inconvenient Sequel: Truth To Power' is divisive\", loc='left', color='black', fontsize='12', fontweight='bold', x=-0.1, y=1.1)\n",
        "ax.text(s='IMDb ratings for the film as of Aug. 29', x=-1.7, y=42.9, color='black', fontsize=10.5)\n",
        "ax.set_xlabel('Rating', color='black', fontsize=9, fontweight='bold')\n",
        "ax.set_ylabel('Percent of Total Votes', color='black', fontsize=9, fontweight='bold')\n",
        "ax.set_xticklabels(range(1,11),color='gray', rotation='horizontal', fontsize=10,  fontname=\"monospace\")\n",
        "ax.set_yticklabels([0,10,20, 30, '40%'], color='gray', fontsize=10, fontname=\"monospace\")\n",
        "ax.set_yticks(ticks=range(0,45,10))\n",
        "ax.text(s='FiveThirtyEight', color='gray', fontsize=7, x=-2, y=-10)\n",
        "ax.text(s='SOURCE: IMDB', color='gray', fontsize=7, x=8.5, y=-10)\n",
        "ax.text(s='___________________________________________________________________' # A fairly 'hacky' way to do it, but couldn't find a good way to create just a solid line anywhere. But if it works, it works.\n",
        "          '_________________________________________________________', color='black', fontsize=7, x=-2, y=-8)\n",
        "\n",
        "for side in ['top', 'left', 'bottom', 'right']: #Setting all sides visibility to false, so the tick marks would appear.\n",
        "  ax.spines[side].set_visible(False)\n",
        "\n",
        "ax.set_xlim(left=-0.7, right=9.6) #Setting x and y limits, for tick marks.\n",
        "ax.set_ylim(bottom=-1, top=41)\n",
        "\n",
        "fig.patch.set(facecolor='white')\n",
        "ax.set_facecolor(color='white')"
      ],
      "execution_count": 2,
      "outputs": [
        {
          "output_type": "display_data",
          "data": {
            "image/png": "[encoded data removed]",
            "text/plain": [
              "<Figure size 432x288 with 1 Axes>"
            ]
          },
          "metadata": {
            "tags": []
          }
        }
      ]
    },
    {
      "cell_type": "code",
      "metadata": {
        "id": "aNDGXnixWtPq",
        "colab_type": "code",
        "outputId": "4ed3fd0c-2e4a-48c5-81b4-d033557acea6",
        "colab": {
          "base_uri": "https://localhost:8080/",
          "height": 204
        }
      },
      "source": [
        "!wget https://media.githubusercontent.com/media/fivethirtyeight/data/master/scrabble-games/scrabble_games.csv #Download the Scrabble data"
      ],
      "execution_count": 3,
      "outputs": [
        {
          "output_type": "stream",
          "text": [
            "--2020-01-17 02:50:30--  https://media.githubusercontent.com/media/fivethirtyeight/data/master/scrabble-games/scrabble_games.csv\n",
            "Resolving media.githubusercontent.com (media.githubusercontent.com)... 151.101.0.133, 151.101.64.133, 151.101.128.133, ...\n",
            "Connecting to media.githubusercontent.com (media.githubusercontent.com)|151.101.0.133|:443... connected.\n",
            "HTTP request sent, awaiting response... 200 OK\n",
            "Length: 164319282 (157M) [text/plain]\n",
            "Saving to: ‘scrabble_games.csv.1’\n",
            "\n",
            "scrabble_games.csv. 100%[===================>] 156.71M   234MB/s    in 0.7s    \n",
            "\n",
            "2020-01-17 02:50:34 (234 MB/s) - ‘scrabble_games.csv.1’ saved [164319282/164319282]\n",
            "\n"
          ],
          "name": "stdout"
        }
      ]
    },
    {
      "cell_type": "code",
      "metadata": {
        "id": "LO0Tl5QmwnNr",
        "colab_type": "code",
        "outputId": "b0742cb4-62f4-4384-9824-bf5b86a0baae",
        "colab": {
          "base_uri": "https://localhost:8080/",
          "height": 400
        }
      },
      "source": [
        "from IPython.display import display, Image\n",
        "\n",
        "url1 = 'https://fivethirtyeight.com/wp-content/uploads/2017/04/roeder-scrabble-1.png?w=575'\n",
        "scrabble1 = Image(url=url1, width=400)\n",
        "\n",
        "display(scrabble1)"
      ],
      "execution_count": 4,
      "outputs": [
        {
          "output_type": "display_data",
          "data": {
            "text/html": [
              "<img src=\"https://fivethirtyeight.com/wp-content/uploads/2017/04/roeder-scrabble-1.png?w=575\" width=\"400\"/>"
            ],
            "text/plain": [
              "<IPython.core.display.Image object>"
            ]
          },
          "metadata": {
            "tags": []
          }
        }
      ]
    },
    {
      "cell_type": "code",
      "metadata": {
        "id": "oyCD_Mlno4Zx",
        "colab_type": "code",
        "outputId": "8a098a0f-c03b-4485-bbd4-adeb3562a670",
        "colab": {
          "base_uri": "https://localhost:8080/",
          "height": 686
        }
      },
      "source": [
        "#First up, let's determine what we need for the two graphs listed. \n",
        "#The graph appears to be a pair of bar charts. Losing scores in red, winning scores in green, \n",
        "#although I have the feeling that the losing score's zero isn't always on the 0 line, and starts on \n",
        "#top of the winning scores. Otherwise it implies there are many more losing scores as a whole than winning scores.\n",
        "#For this graph I need a count of each winner score and loser score, and that's about all.\n",
        "\n",
        "#So we need winning scores, losing scores, and the date. The rest of the data isn't useful to us for our purposes. ##The date was for a second graph on that page which proved to be a bit more than I could chew after the difficulties with the first.\n",
        "df = pd.read_csv('scrabble_games.csv')\n",
        "df2 = df[['winnerscore', 'loserscore', 'date']]\n",
        "print(df2.shape)\n",
        "df2.head(20) #That looks like a lot of zeroes for scores..."
      ],
      "execution_count": 6,
      "outputs": [
        {
          "output_type": "stream",
          "text": [
            "(1542642, 3)\n"
          ],
          "name": "stdout"
        },
        {
          "output_type": "execute_result",
          "data": {
            "text/html": [
              "<div>\n",
              "<style scoped>\n",
              "    .dataframe tbody tr th:only-of-type {\n",
              "        vertical-align: middle;\n",
              "    }\n",
              "\n",
              "    .dataframe tbody tr th {\n",
              "        vertical-align: top;\n",
              "    }\n",
              "\n",
              "    .dataframe thead th {\n",
              "        text-align: right;\n",
              "    }\n",
              "</style>\n",
              "<table border=\"1\" class=\"dataframe\">\n",
              "  <thead>\n",
              "    <tr style=\"text-align: right;\">\n",
              "      <th></th>\n",
              "      <th>winnerscore</th>\n",
              "      <th>loserscore</th>\n",
              "      <th>date</th>\n",
              "    </tr>\n",
              "  </thead>\n",
              "  <tbody>\n",
              "    <tr>\n",
              "      <th>0</th>\n",
              "      <td>0</td>\n",
              "      <td>0</td>\n",
              "      <td>1998-12-06</td>\n",
              "    </tr>\n",
              "    <tr>\n",
              "      <th>1</th>\n",
              "      <td>0</td>\n",
              "      <td>0</td>\n",
              "      <td>1998-12-06</td>\n",
              "    </tr>\n",
              "    <tr>\n",
              "      <th>2</th>\n",
              "      <td>0</td>\n",
              "      <td>0</td>\n",
              "      <td>1998-12-06</td>\n",
              "    </tr>\n",
              "    <tr>\n",
              "      <th>3</th>\n",
              "      <td>0</td>\n",
              "      <td>0</td>\n",
              "      <td>1998-12-06</td>\n",
              "    </tr>\n",
              "    <tr>\n",
              "      <th>4</th>\n",
              "      <td>0</td>\n",
              "      <td>0</td>\n",
              "      <td>1998-12-06</td>\n",
              "    </tr>\n",
              "    <tr>\n",
              "      <th>5</th>\n",
              "      <td>0</td>\n",
              "      <td>0</td>\n",
              "      <td>1998-12-06</td>\n",
              "    </tr>\n",
              "    <tr>\n",
              "      <th>6</th>\n",
              "      <td>0</td>\n",
              "      <td>0</td>\n",
              "      <td>1998-12-06</td>\n",
              "    </tr>\n",
              "    <tr>\n",
              "      <th>7</th>\n",
              "      <td>0</td>\n",
              "      <td>0</td>\n",
              "      <td>1998-12-06</td>\n",
              "    </tr>\n",
              "    <tr>\n",
              "      <th>8</th>\n",
              "      <td>0</td>\n",
              "      <td>0</td>\n",
              "      <td>1998-12-06</td>\n",
              "    </tr>\n",
              "    <tr>\n",
              "      <th>9</th>\n",
              "      <td>0</td>\n",
              "      <td>0</td>\n",
              "      <td>1998-12-06</td>\n",
              "    </tr>\n",
              "    <tr>\n",
              "      <th>10</th>\n",
              "      <td>0</td>\n",
              "      <td>0</td>\n",
              "      <td>1998-12-06</td>\n",
              "    </tr>\n",
              "    <tr>\n",
              "      <th>11</th>\n",
              "      <td>0</td>\n",
              "      <td>0</td>\n",
              "      <td>1998-12-06</td>\n",
              "    </tr>\n",
              "    <tr>\n",
              "      <th>12</th>\n",
              "      <td>0</td>\n",
              "      <td>0</td>\n",
              "      <td>1998-12-06</td>\n",
              "    </tr>\n",
              "    <tr>\n",
              "      <th>13</th>\n",
              "      <td>0</td>\n",
              "      <td>0</td>\n",
              "      <td>1998-12-06</td>\n",
              "    </tr>\n",
              "    <tr>\n",
              "      <th>14</th>\n",
              "      <td>0</td>\n",
              "      <td>0</td>\n",
              "      <td>1998-12-06</td>\n",
              "    </tr>\n",
              "    <tr>\n",
              "      <th>15</th>\n",
              "      <td>0</td>\n",
              "      <td>0</td>\n",
              "      <td>1998-12-06</td>\n",
              "    </tr>\n",
              "    <tr>\n",
              "      <th>16</th>\n",
              "      <td>0</td>\n",
              "      <td>0</td>\n",
              "      <td>1998-12-06</td>\n",
              "    </tr>\n",
              "    <tr>\n",
              "      <th>17</th>\n",
              "      <td>0</td>\n",
              "      <td>0</td>\n",
              "      <td>1998-12-06</td>\n",
              "    </tr>\n",
              "    <tr>\n",
              "      <th>18</th>\n",
              "      <td>0</td>\n",
              "      <td>0</td>\n",
              "      <td>1998-12-06</td>\n",
              "    </tr>\n",
              "    <tr>\n",
              "      <th>19</th>\n",
              "      <td>0</td>\n",
              "      <td>0</td>\n",
              "      <td>1998-12-06</td>\n",
              "    </tr>\n",
              "  </tbody>\n",
              "</table>\n",
              "</div>"
            ],
            "text/plain": [
              "    winnerscore  loserscore        date\n",
              "0             0           0  1998-12-06\n",
              "1             0           0  1998-12-06\n",
              "2             0           0  1998-12-06\n",
              "3             0           0  1998-12-06\n",
              "4             0           0  1998-12-06\n",
              "5             0           0  1998-12-06\n",
              "6             0           0  1998-12-06\n",
              "7             0           0  1998-12-06\n",
              "8             0           0  1998-12-06\n",
              "9             0           0  1998-12-06\n",
              "10            0           0  1998-12-06\n",
              "11            0           0  1998-12-06\n",
              "12            0           0  1998-12-06\n",
              "13            0           0  1998-12-06\n",
              "14            0           0  1998-12-06\n",
              "15            0           0  1998-12-06\n",
              "16            0           0  1998-12-06\n",
              "17            0           0  1998-12-06\n",
              "18            0           0  1998-12-06\n",
              "19            0           0  1998-12-06"
            ]
          },
          "metadata": {
            "tags": []
          },
          "execution_count": 6
        }
      ]
    },
    {
      "cell_type": "code",
      "metadata": {
        "id": "i5VazZOtyY1s",
        "colab_type": "code",
        "outputId": "6d11a77c-11da-4ed1-c597-2af7917214e5",
        "colab": {
          "base_uri": "https://localhost:8080/",
          "height": 297
        }
      },
      "source": [
        "df2['winnerscore'].value_counts() \n",
        "#Almost exactly half of our results have no winner score and we have some negative scores somehow. Let's get rid of those.\n",
        "df2 = df2[df2['winnerscore']>0]\n",
        "df2.describe()"
      ],
      "execution_count": 7,
      "outputs": [
        {
          "output_type": "execute_result",
          "data": {
            "text/html": [
              "<div>\n",
              "<style scoped>\n",
              "    .dataframe tbody tr th:only-of-type {\n",
              "        vertical-align: middle;\n",
              "    }\n",
              "\n",
              "    .dataframe tbody tr th {\n",
              "        vertical-align: top;\n",
              "    }\n",
              "\n",
              "    .dataframe thead th {\n",
              "        text-align: right;\n",
              "    }\n",
              "</style>\n",
              "<table border=\"1\" class=\"dataframe\">\n",
              "  <thead>\n",
              "    <tr style=\"text-align: right;\">\n",
              "      <th></th>\n",
              "      <th>winnerscore</th>\n",
              "      <th>loserscore</th>\n",
              "    </tr>\n",
              "  </thead>\n",
              "  <tbody>\n",
              "    <tr>\n",
              "      <th>count</th>\n",
              "      <td>770761.000000</td>\n",
              "      <td>770761.000000</td>\n",
              "    </tr>\n",
              "    <tr>\n",
              "      <th>mean</th>\n",
              "      <td>415.202618</td>\n",
              "      <td>336.394664</td>\n",
              "    </tr>\n",
              "    <tr>\n",
              "      <th>std</th>\n",
              "      <td>51.407354</td>\n",
              "      <td>45.740879</td>\n",
              "    </tr>\n",
              "    <tr>\n",
              "      <th>min</th>\n",
              "      <td>1.000000</td>\n",
              "      <td>-50.000000</td>\n",
              "    </tr>\n",
              "    <tr>\n",
              "      <th>25%</th>\n",
              "      <td>379.000000</td>\n",
              "      <td>307.000000</td>\n",
              "    </tr>\n",
              "    <tr>\n",
              "      <th>50%</th>\n",
              "      <td>411.000000</td>\n",
              "      <td>337.000000</td>\n",
              "    </tr>\n",
              "    <tr>\n",
              "      <th>75%</th>\n",
              "      <td>446.000000</td>\n",
              "      <td>367.000000</td>\n",
              "    </tr>\n",
              "    <tr>\n",
              "      <th>max</th>\n",
              "      <td>803.000000</td>\n",
              "      <td>585.000000</td>\n",
              "    </tr>\n",
              "  </tbody>\n",
              "</table>\n",
              "</div>"
            ],
            "text/plain": [
              "         winnerscore     loserscore\n",
              "count  770761.000000  770761.000000\n",
              "mean      415.202618     336.394664\n",
              "std        51.407354      45.740879\n",
              "min         1.000000     -50.000000\n",
              "25%       379.000000     307.000000\n",
              "50%       411.000000     337.000000\n",
              "75%       446.000000     367.000000\n",
              "max       803.000000     585.000000"
            ]
          },
          "metadata": {
            "tags": []
          },
          "execution_count": 7
        }
      ]
    },
    {
      "cell_type": "code",
      "metadata": {
        "id": "ysAQ6fXFzmPQ",
        "colab_type": "code",
        "outputId": "cf8f97a4-3b7e-41d3-f36f-47f085ff389c",
        "colab": {
          "base_uri": "https://localhost:8080/",
          "height": 297
        }
      },
      "source": [
        "#The describe shows us we also have negative loser scores. I can only assume these negative scores are the result of penalties, but for the sake of our graph we'll get rid of those too.\n",
        "df2 = df2[df2['loserscore']>0]\n",
        "df2.describe()"
      ],
      "execution_count": 8,
      "outputs": [
        {
          "output_type": "execute_result",
          "data": {
            "text/html": [
              "<div>\n",
              "<style scoped>\n",
              "    .dataframe tbody tr th:only-of-type {\n",
              "        vertical-align: middle;\n",
              "    }\n",
              "\n",
              "    .dataframe tbody tr th {\n",
              "        vertical-align: top;\n",
              "    }\n",
              "\n",
              "    .dataframe thead th {\n",
              "        text-align: right;\n",
              "    }\n",
              "</style>\n",
              "<table border=\"1\" class=\"dataframe\">\n",
              "  <thead>\n",
              "    <tr style=\"text-align: right;\">\n",
              "      <th></th>\n",
              "      <th>winnerscore</th>\n",
              "      <th>loserscore</th>\n",
              "    </tr>\n",
              "  </thead>\n",
              "  <tbody>\n",
              "    <tr>\n",
              "      <th>count</th>\n",
              "      <td>770653.000000</td>\n",
              "      <td>770653.000000</td>\n",
              "    </tr>\n",
              "    <tr>\n",
              "      <th>mean</th>\n",
              "      <td>415.225188</td>\n",
              "      <td>336.442300</td>\n",
              "    </tr>\n",
              "    <tr>\n",
              "      <th>std</th>\n",
              "      <td>51.331941</td>\n",
              "      <td>45.566496</td>\n",
              "    </tr>\n",
              "    <tr>\n",
              "      <th>min</th>\n",
              "      <td>13.000000</td>\n",
              "      <td>1.000000</td>\n",
              "    </tr>\n",
              "    <tr>\n",
              "      <th>25%</th>\n",
              "      <td>379.000000</td>\n",
              "      <td>307.000000</td>\n",
              "    </tr>\n",
              "    <tr>\n",
              "      <th>50%</th>\n",
              "      <td>411.000000</td>\n",
              "      <td>337.000000</td>\n",
              "    </tr>\n",
              "    <tr>\n",
              "      <th>75%</th>\n",
              "      <td>446.000000</td>\n",
              "      <td>367.000000</td>\n",
              "    </tr>\n",
              "    <tr>\n",
              "      <th>max</th>\n",
              "      <td>803.000000</td>\n",
              "      <td>585.000000</td>\n",
              "    </tr>\n",
              "  </tbody>\n",
              "</table>\n",
              "</div>"
            ],
            "text/plain": [
              "         winnerscore     loserscore\n",
              "count  770653.000000  770653.000000\n",
              "mean      415.225188     336.442300\n",
              "std        51.331941      45.566496\n",
              "min        13.000000       1.000000\n",
              "25%       379.000000     307.000000\n",
              "50%       411.000000     337.000000\n",
              "75%       446.000000     367.000000\n",
              "max       803.000000     585.000000"
            ]
          },
          "metadata": {
            "tags": []
          },
          "execution_count": 8
        }
      ]
    },
    {
      "cell_type": "code",
      "metadata": {
        "id": "l6gRJ7Xu0PKm",
        "colab_type": "code",
        "outputId": "2d8ffd03-93c5-435e-dbe9-a9ee14b9d22c",
        "colab": {
          "base_uri": "https://localhost:8080/",
          "height": 102
        }
      },
      "source": [
        "df2['date'].describe()"
      ],
      "execution_count": 9,
      "outputs": [
        {
          "output_type": "execute_result",
          "data": {
            "text/plain": [
              "count         770653\n",
              "unique          2339\n",
              "top       2004-08-01\n",
              "freq           12256\n",
              "Name: date, dtype: object"
            ]
          },
          "metadata": {
            "tags": []
          },
          "execution_count": 9
        }
      ]
    },
    {
      "cell_type": "code",
      "metadata": {
        "id": "2-KUCfti1ssY",
        "colab_type": "code",
        "colab": {}
      },
      "source": [
        "df2['date'] = pd.to_datetime(df2['date'], infer_datetime_format=True) #Changing our dates into something we can do things with."
      ],
      "execution_count": 0,
      "outputs": []
    },
    {
      "cell_type": "code",
      "metadata": {
        "id": "Lq7Scwi416cc",
        "colab_type": "code",
        "colab": {
          "base_uri": "https://localhost:8080/",
          "height": 136
        },
        "outputId": "9767f1b9-e44a-45b3-c26f-a6ee40093eee"
      },
      "source": [
        "df2['date'].describe()\n",
        "#Hmm... still showing as object dtype. Something is weird in there. Since we plan to sort specific dates out anyway it might not be an issue."
      ],
      "execution_count": 11,
      "outputs": [
        {
          "output_type": "execute_result",
          "data": {
            "text/plain": [
              "count                  770653\n",
              "unique                   2339\n",
              "top       2004-08-01 00:00:00\n",
              "freq                    12256\n",
              "first     1976-12-05 00:00:00\n",
              "last      2017-03-05 00:00:00\n",
              "Name: date, dtype: object"
            ]
          },
          "metadata": {
            "tags": []
          },
          "execution_count": 11
        }
      ]
    },
    {
      "cell_type": "code",
      "metadata": {
        "id": "3UTaD_Nh2W_C",
        "colab_type": "code",
        "colab": {}
      },
      "source": [
        "#for this first graph, our table truncates after 800 points. Let's do that to our data as well\n",
        "df2 = df2[df2['winnerscore']<800]\n",
        "df2 = df2[df2['loserscore']<800]#This line is probably redundant, but including it just in case someone lost with more points on some technicality.\n",
        "#df2[['winnerscore', 'loserscore']].plot.bar(stacked=True) #Tried this originally, turns out that making a bar chart with three quarters of a million entries is extremely slow.\n",
        "winnercount = df2['winnerscore'].value_counts()\n",
        "losercount = df2['loserscore'].value_counts()\n",
        "df3 = pd.DataFrame()\n",
        "df3['winnercount'] = winnercount\n",
        "df3['losercount'] = losercount"
      ],
      "execution_count": 0,
      "outputs": []
    },
    {
      "cell_type": "code",
      "metadata": {
        "id": "F9V2YpR9MFtb",
        "colab_type": "code",
        "colab": {
          "base_uri": "https://localhost:8080/",
          "height": 400
        },
        "outputId": "62c2e661-e9ee-4c17-ae36-b6f3c32841ac"
      },
      "source": [
        "display(scrabble1)"
      ],
      "execution_count": 13,
      "outputs": [
        {
          "output_type": "display_data",
          "data": {
            "text/html": [
              "<img src=\"https://fivethirtyeight.com/wp-content/uploads/2017/04/roeder-scrabble-1.png?w=575\" width=\"400\"/>"
            ],
            "text/plain": [
              "<IPython.core.display.Image object>"
            ]
          },
          "metadata": {
            "tags": []
          }
        }
      ]
    },
    {
      "cell_type": "code",
      "metadata": {
        "id": "6nIiaWSDKAcn",
        "colab_type": "code",
        "colab": {
          "base_uri": "https://localhost:8080/",
          "height": 355
        },
        "outputId": "0f9c1873-08ab-4c95-8f6a-a8dbb6a2a051"
      },
      "source": [
        "fig= plt.figure(figsize=(8,8));\n",
        "\n",
        "ax2 = df3.sort_index().plot.bar(stacked=True, width=1, legend=False) #Removed the legend to be able to replicate the example better.\n",
        "\n",
        "ax2.set_title(\"700,000 games of Scrabble\", loc='left', color='black', fontsize='18', x=-0.1, y=1.1)\n",
        "ax2.text(s='All tournament Scrabble scores on cross-tables.com', x=-300, y=11700, color='black', fontsize=10.5)\n",
        "ax2.set_xlabel('Score', color='black', fontsize=9, fontweight='bold')\n",
        "ax2.set_ylabel('Count of scores', color='black', fontsize=9, fontweight='bold')\n",
        "ax2.set_xticklabels(range(0,801,200),color='gray', rotation='horizontal', fontsize=10,  fontname=\"monospace\")\n",
        "ax2.set_yticklabels(range(0,10001,2500), color='gray', fontsize=10, fontname=\"monospace\")\n",
        "ax2.set_yticks(ticks=range(0,10001,2500))\n",
        "ax2.set_xticks(ticks=range(-170,801,200))#For some reason, setting the first value to negative was the only way I could get the graph to line up correctly. I have checked to make sure that data is consistent with the above graph, and it seems to be.\n",
        "ax2.set_xlim(left=-200, right=825) #Setting x and y limits, for tick marks.\n",
        "ax2.set_ylim(bottom=-550, top=11000)\n",
        "ax2.text(s='FiveThirtyEight', color='gray', fontsize=7, x=-300, y=-2000)\n",
        "ax2.text(s='SOURCE: CROSS-TABLES.COM', color='gray', fontsize=7, x=600, y=-2000);\n",
        "ax2.text(s='Winning\\n  Scores', color='white', fontweight='bold', x=170, y=1200, fontsize=11)\n",
        "ax2.text(s='Losing\\nScores', color='white', fontweight='bold', x=150, y=6500, fontsize=9);\n",
        "\n",
        "#There's all sorts of weirdness going on with this graph and it's settings. \n",
        "#Negative xticks to get the graph into the right spot, \n",
        "#xlim not wanting to behave correctly (ylim seems fine). \n",
        "#The graph itself is too tall and I can't seem to resolve that.\n",
        "#Did winnercount.sort_values() to make sure I wasn't misinterpreting the data, and I'm definitely not. \n",
        "#This graph behaving in the way it has been has probably been my first major roadblock so far, and the troubles probably stem from me attempting to do two graphs in one rather than keep searching for a simpler bar graph.\n",
        "#Despite all that, the graph is definitely similar enough in my opinion."
      ],
      "execution_count": 77,
      "outputs": [
        {
          "output_type": "display_data",
          "data": {
            "text/plain": [
              "<Figure size 576x576 with 0 Axes>"
            ]
          },
          "metadata": {
            "tags": []
          }
        },
        {
          "output_type": "display_data",
          "data": {
            "image/png": "[encoded data removed]",
            "text/plain": [
              "<Figure size 432x288 with 1 Axes>"
            ]
          },
          "metadata": {
            "tags": []
          }
        }
      ]
    },
    {
      "cell_type": "code",
      "metadata": {
        "id": "3cNrueB9ME8S",
        "colab_type": "code",
        "colab": {
          "base_uri": "https://localhost:8080/",
          "height": 221
        },
        "outputId": "d396a88f-c46e-4104-9538-f87a0c0522e9"
      },
      "source": [
        "winnercount.sort_values() #Doublechecking the most common winner values because of how they were lining up when I didn't pass that negative value above. Data is correct but the graph display was not."
      ],
      "execution_count": 15,
      "outputs": [
        {
          "output_type": "execute_result",
          "data": {
            "text/plain": [
              "201       1\n",
              "682       1\n",
              "173       1\n",
              "685       1\n",
              "88        1\n",
              "       ... \n",
              "405    6364\n",
              "410    6397\n",
              "396    6433\n",
              "404    6440\n",
              "401    6495\n",
              "Name: winnerscore, Length: 544, dtype: int64"
            ]
          },
          "metadata": {
            "tags": []
          },
          "execution_count": 15
        }
      ]
    },
    {
      "cell_type": "markdown",
      "metadata": {
        "id": "0wSrBzmJyWaV",
        "colab_type": "text"
      },
      "source": [
        "# STRETCH OPTIONS\n",
        "\n",
        "### 1) Reproduce one of the following using the matplotlib or seaborn libraries:\n",
        "\n",
        "- [thanksgiving-2015](https://fivethirtyeight.com/features/heres-what-your-part-of-america-eats-on-thanksgiving/) \n",
        "- [candy-power-ranking](https://fivethirtyeight.com/features/the-ultimate-halloween-candy-power-ranking/) \n",
        "- or another example of your choice!\n",
        "\n",
        "### 2) Make more charts!\n",
        "\n",
        "Choose a chart you want to make, from [Visual Vocabulary - Vega Edition](http://ft.com/vocabulary).\n",
        "\n",
        "Find the chart in an example gallery of a Python data visualization library:\n",
        "- [Seaborn](http://seaborn.pydata.org/examples/index.html)\n",
        "- [Altair](https://altair-viz.github.io/gallery/index.html)\n",
        "- [Matplotlib](https://matplotlib.org/gallery.html)\n",
        "- [Pandas](https://pandas.pydata.org/pandas-docs/stable/visualization.html)\n",
        "\n",
        "Reproduce the chart. [Optionally, try the \"Ben Franklin Method.\"](https://docs.google.com/document/d/1ubOw9B3Hfip27hF2ZFnW3a3z9xAgrUDRReOEo-FHCVs/edit) If you want, experiment and make changes.\n",
        "\n",
        "Take notes. Consider sharing your work with your cohort!"
      ]
    },
    {
      "cell_type": "code",
      "metadata": {
        "id": "dRJkKftiy5BJ",
        "colab_type": "code",
        "colab": {}
      },
      "source": [
        "# More Work Here"
      ],
      "execution_count": 0,
      "outputs": []
    }
  ]
}